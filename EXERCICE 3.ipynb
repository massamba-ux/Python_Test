{
 "cells": [
  {
   "cell_type": "code",
   "execution_count": null,
   "id": "2fa02258",
   "metadata": {},
   "outputs": [],
   "source": [
    "##EXERCICE3##"
   ]
  },
  {
   "cell_type": "code",
   "execution_count": 1,
   "id": "e8edc611",
   "metadata": {},
   "outputs": [
    {
     "name": "stdout",
     "output_type": "stream",
     "text": [
      "Médiane : 5\n"
     ]
    }
   ],
   "source": [
    "def calculer_mediane(liste):\n",
    "    liste_triee = sorted(liste)\n",
    "    n = len(liste_triee)\n",
    "    if n % 2 == 1:\n",
    "        \n",
    "        return liste_triee[n // 2]\n",
    "    else:\n",
    "        \n",
    "        return (liste_triee[n // 2 - 1] + liste_triee[n // 2]) / 2\n",
    "\n",
    "\n",
    "nombres = [7, 1, 3, 5, 9]\n",
    "print(\"Médiane :\", calculer_mediane(nombres))  "
   ]
  },
  {
   "cell_type": "code",
   "execution_count": 2,
   "id": "80d403a3",
   "metadata": {},
   "outputs": [
    {
     "name": "stdout",
     "output_type": "stream",
     "text": [
      "Chaînes de plus de 5 caractères : ['Bonjour', 'Python', 'Programmation']\n"
     ]
    }
   ],
   "source": [
    "def filtrer_chaines(liste_chaines):\n",
    "    return [chaine for chaine in liste_chaines if len(chaine) > 5]\n",
    "\n",
    "\n",
    "chaines = [\"Bonjour\", \"le\", \"monde\", \"Python\", \"Programmation\"]\n",
    "print(\"Chaînes de plus de 5 caractères :\", filtrer_chaines(chaines))"
   ]
  },
  {
   "cell_type": "code",
   "execution_count": 3,
   "id": "cb8ea0f9",
   "metadata": {},
   "outputs": [
    {
     "name": "stdout",
     "output_type": "stream",
     "text": [
      "Moyenne : 30.0\n"
     ]
    }
   ],
   "source": [
    "def calculer_moyenne(liste):\n",
    "    if len(liste) == 0:\n",
    "        return 0\n",
    "    total = 0\n",
    "    for nombre in liste:\n",
    "        total += nombre\n",
    "    return total / len(liste)\n",
    "\n",
    "\n",
    "nombres = [10, 20, 30, 40, 50]\n",
    "print(\"Moyenne :\", calculer_moyenne(nombres))"
   ]
  },
  {
   "cell_type": "code",
   "execution_count": 4,
   "id": "f2381618",
   "metadata": {},
   "outputs": [
    {
     "name": "stdout",
     "output_type": "stream",
     "text": [
      "Liste inversée : [5, 4, 3, 2, 1]\n"
     ]
    }
   ],
   "source": [
    "def inverser_liste(liste):\n",
    "    return liste[::-1]\n",
    "\n",
    "\n",
    "liste = [1, 2, 3, 4, 5]\n",
    "print(\"Liste inversée :\", inverser_liste(liste))"
   ]
  },
  {
   "cell_type": "code",
   "execution_count": 5,
   "id": "eedac1aa",
   "metadata": {},
   "outputs": [
    {
     "name": "stdout",
     "output_type": "stream",
     "text": [
      "Noms contenant 'a' : ['Massamba', 'Astou', 'Daouda', 'Eva']\n"
     ]
    }
   ],
   "source": [
    "def noms_avec_a(liste_noms):\n",
    "    return [nom for nom in liste_noms if \"a\" in nom.lower()]\n",
    "\n",
    "\n",
    "noms = [\"Massamba\", \"Bob\", \"Astou\", \"Daouda\", \"Eva\"]\n",
    "print(\"Noms contenant 'a' :\", noms_avec_a(noms))"
   ]
  },
  {
   "cell_type": "code",
   "execution_count": null,
   "id": "8b94b5ba",
   "metadata": {},
   "outputs": [],
   "source": []
  }
 ],
 "metadata": {
  "kernelspec": {
   "display_name": "Python 3 (ipykernel)",
   "language": "python",
   "name": "python3"
  },
  "language_info": {
   "codemirror_mode": {
    "name": "ipython",
    "version": 3
   },
   "file_extension": ".py",
   "mimetype": "text/x-python",
   "name": "python",
   "nbconvert_exporter": "python",
   "pygments_lexer": "ipython3",
   "version": "3.11.5"
  }
 },
 "nbformat": 4,
 "nbformat_minor": 5
}
