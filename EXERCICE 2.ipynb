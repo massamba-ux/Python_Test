{
 "cells": [
  {
   "cell_type": "code",
   "execution_count": null,
   "id": "36709a50",
   "metadata": {},
   "outputs": [],
   "source": [
    "##EXERCICE2##"
   ]
  },
  {
   "cell_type": "code",
   "execution_count": 1,
   "id": "a93b8226",
   "metadata": {},
   "outputs": [
    {
     "name": "stdout",
     "output_type": "stream",
     "text": [
      "[3, 4]\n"
     ]
    }
   ],
   "source": [
    "def elements_communs(liste1, liste2):\n",
    "    return list(set(liste1) & set(liste2))\n",
    "\n",
    "liste1 = [1, 2, 3, 4]\n",
    "liste2 = [3, 4, 5, 6]\n",
    "print(elements_communs(liste1, liste2))   \n"
   ]
  },
  {
   "cell_type": "code",
   "execution_count": 2,
   "id": "2abfaaf2",
   "metadata": {},
   "outputs": [
    {
     "name": "stdout",
     "output_type": "stream",
     "text": [
      "impair\n"
     ]
    }
   ],
   "source": [
    "def pair_impair(nombre):\n",
    "    return \"pair\" if nombre % 2 == 0 else \"impair\"\n",
    "\n",
    "print(pair_impair(7)) "
   ]
  },
  {
   "cell_type": "code",
   "execution_count": 3,
   "id": "396abfe7",
   "metadata": {},
   "outputs": [
    {
     "name": "stdout",
     "output_type": "stream",
     "text": [
      "60\n"
     ]
    }
   ],
   "source": [
    "def somme_liste(liste):\n",
    "    return sum(liste)\n",
    "print(somme_liste([10, 20, 30])) "
   ]
  },
  {
   "cell_type": "code",
   "execution_count": 4,
   "id": "91230d6b",
   "metadata": {},
   "outputs": [
    {
     "name": "stdout",
     "output_type": "stream",
     "text": [
      "['B', 'l', 'm']\n"
     ]
    }
   ],
   "source": [
    "def premiere_lettre_mots(liste_mots):\n",
    "    return [mot[0] for mot in liste_mots]\n",
    "\n",
    "print(premiere_lettre_mots([\"Bonjour\", \"le\", \"monde\"])) "
   ]
  },
  {
   "cell_type": "code",
   "execution_count": 5,
   "id": "cf926342",
   "metadata": {},
   "outputs": [
    {
     "name": "stdout",
     "output_type": "stream",
     "text": [
      "Bnjr l mnd\n"
     ]
    }
   ],
   "source": [
    "def supprimer_voyelles(chaine):\n",
    "    voyelles = \"aeiouAEIOU\"\n",
    "    return ''.join([lettre for lettre in chaine if lettre not in voyelles])\n",
    "print(supprimer_voyelles(\"Bonjour le monde\"))"
   ]
  },
  {
   "cell_type": "code",
   "execution_count": null,
   "id": "0f6cbc6b",
   "metadata": {},
   "outputs": [],
   "source": []
  }
 ],
 "metadata": {
  "kernelspec": {
   "display_name": "Python 3 (ipykernel)",
   "language": "python",
   "name": "python3"
  },
  "language_info": {
   "codemirror_mode": {
    "name": "ipython",
    "version": 3
   },
   "file_extension": ".py",
   "mimetype": "text/x-python",
   "name": "python",
   "nbconvert_exporter": "python",
   "pygments_lexer": "ipython3",
   "version": "3.11.5"
  }
 },
 "nbformat": 4,
 "nbformat_minor": 5
}
