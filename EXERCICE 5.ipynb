{
 "cells": [
  {
   "cell_type": "code",
   "execution_count": null,
   "id": "9c964cab",
   "metadata": {},
   "outputs": [],
   "source": [
    "##EXERCICE5###"
   ]
  },
  {
   "cell_type": "code",
   "execution_count": 1,
   "id": "a6908964",
   "metadata": {},
   "outputs": [
    {
     "name": "stdout",
     "output_type": "stream",
     "text": [
      "{'b': 1, 'o': 5, 'n': 2, 'j': 1, 'u': 1, 'r': 2, 'l': 4, 'e': 3, 'm': 1, 'd': 2, 'h': 1, 'w': 1}\n"
     ]
    }
   ],
   "source": [
    "def calculer_frequence_lettres(texte):\n",
    "\n",
    "    texte = texte.lower()\n",
    "   \n",
    "    frequence = {}\n",
    "       \n",
    "    for lettre in texte:\n",
    "\n",
    "        if lettre.isalpha():\n",
    "            \n",
    "            if lettre in frequence:\n",
    "                frequence[lettre] += 1\n",
    "            else:\n",
    "                frequence[lettre] = 1\n",
    "   \n",
    "    return frequence\n",
    "\n",
    "texte = \"Bonjour le monde! Hello world!\"\n",
    "resultat = calculer_frequence_lettres(texte)\n",
    "print(resultat)"
   ]
  },
  {
   "cell_type": "code",
   "execution_count": null,
   "id": "7fdb0f1c",
   "metadata": {},
   "outputs": [],
   "source": []
  }
 ],
 "metadata": {
  "kernelspec": {
   "display_name": "Python 3 (ipykernel)",
   "language": "python",
   "name": "python3"
  },
  "language_info": {
   "codemirror_mode": {
    "name": "ipython",
    "version": 3
   },
   "file_extension": ".py",
   "mimetype": "text/x-python",
   "name": "python",
   "nbconvert_exporter": "python",
   "pygments_lexer": "ipython3",
   "version": "3.11.5"
  }
 },
 "nbformat": 4,
 "nbformat_minor": 5
}
