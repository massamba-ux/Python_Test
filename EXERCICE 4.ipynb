{
 "cells": [
  {
   "cell_type": "code",
   "execution_count": null,
   "id": "ec965a3d",
   "metadata": {},
   "outputs": [],
   "source": [
    "##EXERCICE4##"
   ]
  },
  {
   "cell_type": "code",
   "execution_count": 1,
   "id": "6ff47025",
   "metadata": {},
   "outputs": [
    {
     "name": "stdout",
     "output_type": "stream",
     "text": [
      "[1, 2, 3, 4, 5]\n"
     ]
    }
   ],
   "source": [
    "def supprimer_doublons(liste):\n",
    "    return list(set(liste))\n",
    "\n",
    "\n",
    "liste = [1, 2, 2, 3, 4, 4, 5]\n",
    "resultat = supprimer_doublons(liste)\n",
    "print(resultat)  \n"
   ]
  },
  {
   "cell_type": "code",
   "execution_count": 2,
   "id": "1678116f",
   "metadata": {},
   "outputs": [
    {
     "name": "stdout",
     "output_type": "stream",
     "text": [
      "[2, 3, 5, 7, 11, 13, 17, 19, 23, 29]\n"
     ]
    }
   ],
   "source": [
    "def est_premier(n):\n",
    "    if n <= 1:\n",
    "        return False\n",
    "    for i in range(2, int(n**0.5) + 1):\n",
    "        if n % i == 0:\n",
    "            return False\n",
    "    return True\n",
    "\n",
    "def nombres_premiers_jusqua(n):\n",
    "    return [x for x in range(2, n+1) if est_premier(x)]\n",
    "\n",
    "\n",
    "n = 30\n",
    "resultat = nombres_premiers_jusqua(n)\n",
    "print(resultat)  "
   ]
  },
  {
   "cell_type": "code",
   "execution_count": 3,
   "id": "d3318627",
   "metadata": {},
   "outputs": [
    {
     "name": "stdout",
     "output_type": "stream",
     "text": [
      "[3, 6, 9, 12, 15]\n"
     ]
    }
   ],
   "source": [
    "def multiplier_par_trois(liste):\n",
    "    return list(map(lambda x: x * 3, liste))\n",
    "\n",
    "\n",
    "liste = [1, 2, 3, 4, 5]\n",
    "resultat = multiplier_par_trois(liste)\n",
    "print(resultat)"
   ]
  },
  {
   "cell_type": "code",
   "execution_count": null,
   "id": "d81f073c",
   "metadata": {},
   "outputs": [],
   "source": []
  }
 ],
 "metadata": {
  "kernelspec": {
   "display_name": "Python 3 (ipykernel)",
   "language": "python",
   "name": "python3"
  },
  "language_info": {
   "codemirror_mode": {
    "name": "ipython",
    "version": 3
   },
   "file_extension": ".py",
   "mimetype": "text/x-python",
   "name": "python",
   "nbconvert_exporter": "python",
   "pygments_lexer": "ipython3",
   "version": "3.11.5"
  }
 },
 "nbformat": 4,
 "nbformat_minor": 5
}
